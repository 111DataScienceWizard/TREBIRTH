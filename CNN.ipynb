{
  "nbformat": 4,
  "nbformat_minor": 0,
  "metadata": {
    "colab": {
      "provenance": [],
      "include_colab_link": true
    },
    "kernelspec": {
      "name": "python3",
      "display_name": "Python 3"
    },
    "language_info": {
      "name": "python"
    }
  },
  "cells": [
    {
      "cell_type": "markdown",
      "metadata": {
        "id": "view-in-github",
        "colab_type": "text"
      },
      "source": [
        "<a href=\"https://colab.research.google.com/github/111DataScienceWizard/TREBIRTH/blob/main/CNN.ipynb\" target=\"_parent\"><img src=\"https://colab.research.google.com/assets/colab-badge.svg\" alt=\"Open In Colab\"/></a>"
      ]
    },
    {
      "cell_type": "code",
      "execution_count": null,
      "metadata": {
        "id": "oXXqU8pjo7gF"
      },
      "outputs": [],
      "source": [
        "import pandas as pd\n",
        "import numpy as np"
      ]
    },
    {
      "cell_type": "code",
      "source": [
        "TrainingData = pd.read_csv(\"/content/Training_Data.csv\")\n",
        "TestData = pd.read_csv(\"/content/Testing_Data (1).csv\")"
      ],
      "metadata": {
        "id": "U5wd2ksoo8IY"
      },
      "execution_count": null,
      "outputs": []
    },
    {
      "cell_type": "markdown",
      "source": [
        "PyWavelets is a Python library for wavelet transforms and provides various functions for signal processing and image compression."
      ],
      "metadata": {
        "id": "-IOVcs8qcn4Z"
      }
    },
    {
      "cell_type": "code",
      "source": [
        "!pip install PyWavelets"
      ],
      "metadata": {
        "colab": {
          "base_uri": "https://localhost:8080/"
        },
        "id": "ZxYKAuBwsKab",
        "outputId": "0018071c-1f8c-4747-b5d3-0f5aa2343a04"
      },
      "execution_count": null,
      "outputs": [
        {
          "output_type": "stream",
          "name": "stdout",
          "text": [
            "Requirement already satisfied: PyWavelets in /usr/local/lib/python3.10/dist-packages (1.5.0)\n",
            "Requirement already satisfied: numpy<2.0,>=1.22.4 in /usr/local/lib/python3.10/dist-packages (from PyWavelets) (1.25.2)\n"
          ]
        }
      ]
    },
    {
      "cell_type": "code",
      "source": [
        "import os\n",
        "import pywt\n",
        "import numpy as np\n",
        "from scipy.ndimage import zoom\n",
        "from scipy.io import loadmat\n",
        "from skimage.transform import resize\n",
        "from skimage import exposure\n",
        "from skimage.util import img_as_ubyte\n",
        "from keras.preprocessing.image import array_to_img"
      ],
      "metadata": {
        "id": "tUqrzBJ5o8Lf"
      },
      "execution_count": null,
      "outputs": []
    },
    {
      "cell_type": "code",
      "source": [
        "def helperSaveTFR(wt, ii, parentDir, SetDir, ClassDir):\n",
        "    imgLoc = os.path.join(parentDir, SetDir, ClassDir)\n",
        "    if not os.path.exists(imgLoc):\n",
        "        os.makedirs(imgLoc)\n",
        "    imFileName = f\"{SetDir}_{ClassDir}_{ii}.jpg\"\n",
        "    resized_wt = resize(np.abs(wt), (227, 227))\n",
        "\n",
        "    rescaled_wt = exposure.rescale_intensity(resized_wt, in_range=(-1, 1), out_range=(0, 1))\n",
        "\n",
        "    im = np.expand_dims(rescaled_wt, axis=-1)\n",
        "    img = array_to_img(im)\n",
        "    img.save(os.path.join(imgLoc, imFileName))\n"
      ],
      "metadata": {
        "id": "f6dfcVI9o8PG"
      },
      "execution_count": null,
      "outputs": []
    },
    {
      "cell_type": "code",
      "source": [
        "import pywt\n",
        "\n",
        "def helpergenWaveletTFImg1(parentDir, trainingSet, testSet):\n",
        "    taskNm = [\"Training\", \"Training\", \"Test\", \"Test\"]\n",
        "    shapeNm = [\"HeaData\", \"InfData\", \"HeaData\", \"InfData\"]\n",
        "    print('Generating Time-Frequency Representations...Please Wait')\n",
        "    for ns in range(1, 5):\n",
        "        if ns % 4 == 1:\n",
        "            tt = trainingSet.iloc[:, :49]\n",
        "            SetDir = 'Training1'\n",
        "            ClassDir = 'HeaData'\n",
        "        elif ns % 4 == 2:\n",
        "            tt = trainingSet.iloc[:, 49:98]\n",
        "            SetDir = 'Training1'\n",
        "            ClassDir = 'InfData'\n",
        "        elif ns % 4 == 3:\n",
        "            tt = testSet.iloc[:, :10]\n",
        "            SetDir = 'Test1'\n",
        "            ClassDir = 'HeaData'\n",
        "        else:\n",
        "            tt = testSet.iloc[:, 11:20]\n",
        "            SetDir = 'Test1'\n",
        "            ClassDir = 'InfData'\n",
        "\n",
        "        numSig = tt.shape[1]\n",
        "        for ii in range(numSig):\n",
        "            wt, _ = pywt.cwt(tt.iloc[:, ii], scales=np.arange(1, 128), wavelet='morl')\n",
        "            helperSaveTFR(np.abs(wt), ii, parentDir, SetDir, ClassDir)\n",
        "        print(f'   Creating {ClassDir} Time-Frequency Representations ... Done')"
      ],
      "metadata": {
        "id": "G8TNkkxpo8UJ"
      },
      "execution_count": null,
      "outputs": []
    },
    {
      "cell_type": "code",
      "source": [
        "parentDir = \"/content/temp\"\n",
        "if not os.path.exists(parentDir):\n",
        "    os.makedirs(parentDir)\n"
      ],
      "metadata": {
        "id": "5GRnjjfNrvV7"
      },
      "execution_count": null,
      "outputs": []
    },
    {
      "cell_type": "code",
      "source": [
        "helpergenWaveletTFImg1(parentDir, TrainingData, TestData)"
      ],
      "metadata": {
        "colab": {
          "base_uri": "https://localhost:8080/"
        },
        "id": "_GtjHihjrvTG",
        "outputId": "cc48ec4b-6c42-4a17-acd9-372a355a0e3e"
      },
      "execution_count": null,
      "outputs": [
        {
          "output_type": "stream",
          "name": "stdout",
          "text": [
            "Generating Time-Frequency Representations...Please Wait\n",
            "   Creating HeaData Time-Frequency Representations ... Done\n",
            "   Creating InfData Time-Frequency Representations ... Done\n",
            "   Creating HeaData Time-Frequency Representations ... Done\n",
            "   Creating InfData Time-Frequency Representations ... Done\n"
          ]
        }
      ]
    },
    {
      "cell_type": "code",
      "source": [
        "from tensorflow.keras.applications import MobileNet\n",
        "\n",
        "mobilenet = MobileNet(weights='imagenet', include_top=False)"
      ],
      "metadata": {
        "colab": {
          "base_uri": "https://localhost:8080/"
        },
        "id": "kca1L6autwxA",
        "outputId": "889175c2-206e-46fd-bce4-2b946d45212d"
      },
      "execution_count": null,
      "outputs": [
        {
          "output_type": "stream",
          "name": "stderr",
          "text": [
            "WARNING:tensorflow:`input_shape` is undefined or non-square, or `rows` is not in [128, 160, 192, 224]. Weights for input shape (224, 224) will be loaded as the default.\n"
          ]
        },
        {
          "output_type": "stream",
          "name": "stdout",
          "text": [
            "Downloading data from https://storage.googleapis.com/tensorflow/keras-applications/mobilenet/mobilenet_1_0_224_tf_no_top.h5\n",
            "17225924/17225924 [==============================] - 0s 0us/step\n"
          ]
        }
      ]
    },
    {
      "cell_type": "code",
      "source": [
        "import tensorflow as tf\n",
        "from tensorflow.keras.applications import MobileNet\n",
        "from tensorflow.keras.layers import Dense, GlobalAveragePooling2D\n",
        "from tensorflow.keras.models import Model\n",
        "from tensorflow.keras.optimizers import SGD\n",
        "from tensorflow.keras.preprocessing.image import ImageDataGenerator\n",
        "from sklearn.metrics import accuracy_score, confusion_matrix\n",
        "import matplotlib.pyplot as plt"
      ],
      "metadata": {
        "id": "JwMDAJcCrvQr"
      },
      "execution_count": null,
      "outputs": []
    },
    {
      "cell_type": "code",
      "source": [
        "base_model = MobileNet(weights='imagenet', include_top=False)"
      ],
      "metadata": {
        "colab": {
          "base_uri": "https://localhost:8080/"
        },
        "id": "H9chdD9zrvNh",
        "outputId": "1a4d8002-0377-428b-c399-b389b7fd5b7d"
      },
      "execution_count": null,
      "outputs": [
        {
          "output_type": "stream",
          "name": "stderr",
          "text": [
            "WARNING:tensorflow:`input_shape` is undefined or non-square, or `rows` is not in [128, 160, 192, 224]. Weights for input shape (224, 224) will be loaded as the default.\n"
          ]
        }
      ]
    },
    {
      "cell_type": "code",
      "source": [
        "x = base_model.output\n",
        "x = GlobalAveragePooling2D()(x)\n",
        "x = Dense(1024, activation='relu')(x)\n",
        "predictions = Dense(2, activation='softmax')(x)\n"
      ],
      "metadata": {
        "id": "i9-jjjwErvK0"
      },
      "execution_count": null,
      "outputs": []
    },
    {
      "cell_type": "code",
      "source": [
        "model = Model(inputs=base_model.input, outputs=predictions)"
      ],
      "metadata": {
        "id": "7pozLvnCrvHh"
      },
      "execution_count": null,
      "outputs": []
    },
    {
      "cell_type": "code",
      "source": [
        "for layer in base_model.layers:\n",
        "    layer.trainable = False"
      ],
      "metadata": {
        "id": "H8kl-_q0rvFw"
      },
      "execution_count": null,
      "outputs": []
    },
    {
      "cell_type": "code",
      "source": [
        "model.compile(optimizer=SGD(lr=0.001, momentum=0.9),\n",
        "              loss='binary_crossentropy',\n",
        "              metrics=['accuracy'])"
      ],
      "metadata": {
        "colab": {
          "base_uri": "https://localhost:8080/"
        },
        "id": "H_Gf-t8YrvCc",
        "outputId": "ff74b820-8000-4a7f-9bdf-e4afceba76df"
      },
      "execution_count": null,
      "outputs": [
        {
          "output_type": "stream",
          "name": "stderr",
          "text": [
            "WARNING:absl:`lr` is deprecated in Keras optimizer, please use `learning_rate` or use the legacy optimizer, e.g.,tf.keras.optimizers.legacy.SGD.\n"
          ]
        }
      ]
    },
    {
      "cell_type": "code",
      "source": [
        "train_datagen = ImageDataGenerator(...)\n",
        "test_datagen = ImageDataGenerator(...)\n"
      ],
      "metadata": {
        "id": "I8rrU8MRru_U"
      },
      "execution_count": null,
      "outputs": []
    },
    {
      "cell_type": "code",
      "source": [
        "img_height = 227\n",
        "img_width = 227\n",
        "batch_size = 20\n",
        "\n",
        "train_generator = train_datagen.flow_from_directory('/content/temp', target_size=(img_height, img_width), batch_size=batch_size, class_mode='categorical')\n",
        "test_generator = test_datagen.flow_from_directory('/content/temp', target_size=(img_height, img_width), batch_size=batch_size, class_mode='categorical')\n"
      ],
      "metadata": {
        "colab": {
          "base_uri": "https://localhost:8080/"
        },
        "id": "3bpq9xURz02Y",
        "outputId": "7172a273-8b48-4a13-a739-c20df7dda66b"
      },
      "execution_count": null,
      "outputs": [
        {
          "output_type": "stream",
          "name": "stdout",
          "text": [
            "Found 117 images belonging to 2 classes.\n",
            "Found 117 images belonging to 2 classes.\n"
          ]
        }
      ]
    },
    {
      "cell_type": "code",
      "source": [
        "history = model.fit(train_generator, epochs=10, validation_data=test_generator)"
      ],
      "metadata": {
        "colab": {
          "base_uri": "https://localhost:8080/"
        },
        "id": "iRwnTz7rru5g",
        "outputId": "6a297880-1398-4e5f-c34a-3b04346ddaf6"
      },
      "execution_count": null,
      "outputs": [
        {
          "output_type": "stream",
          "name": "stdout",
          "text": [
            "Epoch 1/10\n",
            "6/6 [==============================] - 15s 3s/step - loss: 0.4424 - accuracy: 0.8376 - val_loss: 0.4403 - val_accuracy: 0.8376\n",
            "Epoch 2/10\n",
            "6/6 [==============================] - 9s 2s/step - loss: 0.4501 - accuracy: 0.8376 - val_loss: 0.4421 - val_accuracy: 0.8376\n",
            "Epoch 3/10\n",
            "6/6 [==============================] - 11s 2s/step - loss: 0.4419 - accuracy: 0.8376 - val_loss: 0.4386 - val_accuracy: 0.8376\n",
            "Epoch 4/10\n",
            "6/6 [==============================] - 14s 3s/step - loss: 0.4408 - accuracy: 0.8376 - val_loss: 0.4399 - val_accuracy: 0.8376\n",
            "Epoch 5/10\n",
            "6/6 [==============================] - 10s 2s/step - loss: 0.4438 - accuracy: 0.8376 - val_loss: 0.4381 - val_accuracy: 0.8376\n",
            "Epoch 6/10\n",
            "6/6 [==============================] - 10s 2s/step - loss: 0.4443 - accuracy: 0.8376 - val_loss: 0.4386 - val_accuracy: 0.8376\n",
            "Epoch 7/10\n",
            "6/6 [==============================] - 14s 3s/step - loss: 0.4420 - accuracy: 0.8376 - val_loss: 0.4386 - val_accuracy: 0.8376\n",
            "Epoch 8/10\n",
            "6/6 [==============================] - 11s 2s/step - loss: 0.4453 - accuracy: 0.8376 - val_loss: 0.4398 - val_accuracy: 0.8376\n",
            "Epoch 9/10\n",
            "6/6 [==============================] - 10s 2s/step - loss: 0.4385 - accuracy: 0.8376 - val_loss: 0.4390 - val_accuracy: 0.8376\n",
            "Epoch 10/10\n",
            "6/6 [==============================] - 10s 2s/step - loss: 0.4495 - accuracy: 0.8376 - val_loss: 0.4399 - val_accuracy: 0.8376\n"
          ]
        }
      ]
    },
    {
      "cell_type": "code",
      "source": [
        "test_loss, test_acc = model.evaluate(test_generator)\n",
        "print('Test accuracy:', test_acc)"
      ],
      "metadata": {
        "colab": {
          "base_uri": "https://localhost:8080/"
        },
        "id": "iPc8qu11ru2f",
        "outputId": "5e690010-8129-4bd4-f169-4d73ffd56794"
      },
      "execution_count": null,
      "outputs": [
        {
          "output_type": "stream",
          "name": "stdout",
          "text": [
            "6/6 [==============================] - 4s 726ms/step - loss: 0.4399 - accuracy: 0.8376\n",
            "Test accuracy: 0.8376068472862244\n"
          ]
        }
      ]
    },
    {
      "cell_type": "code",
      "source": [
        "plt.plot(history.history['accuracy'], label='accuracy')\n",
        "plt.plot(history.history['val_accuracy'], label='val_accuracy')\n",
        "plt.xlabel('Epoch')\n",
        "plt.ylabel('Accuracy')\n",
        "plt.legend()\n",
        "plt.show()"
      ],
      "metadata": {
        "colab": {
          "base_uri": "https://localhost:8080/",
          "height": 449
        },
        "id": "ZD_JfAQxruzo",
        "outputId": "38ef3cd8-a47c-4736-f71e-a9434e9a46ff"
      },
      "execution_count": null,
      "outputs": [
        {
          "output_type": "display_data",
          "data": {
            "text/plain": [
              "<Figure size 640x480 with 1 Axes>"
            ],
            "image/png": "[encoded data removed]"
          },
          "metadata": {}
        }
      ]
    },
    {
      "cell_type": "code",
      "source": [],
      "metadata": {
        "id": "XR9q69Hjo8hX"
      },
      "execution_count": null,
      "outputs": []
    },
    {
      "cell_type": "code",
      "source": [],
      "metadata": {
        "id": "9yzvpHiTo8jj"
      },
      "execution_count": null,
      "outputs": []
    },
    {
      "cell_type": "code",
      "source": [],
      "metadata": {
        "id": "bAzf7aRYo8me"
      },
      "execution_count": null,
      "outputs": []
    }
  ]
}