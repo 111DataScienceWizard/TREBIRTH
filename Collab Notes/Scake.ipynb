{
  "nbformat": 4,
  "nbformat_minor": 0,
  "metadata": {
    "colab": {
      "provenance": [],
      "include_colab_link": true
    },
    "kernelspec": {
      "name": "python3",
      "display_name": "Python 3"
    },
    "language_info": {
      "name": "python"
    }
  },
  "cells": [
    {
      "cell_type": "markdown",
      "metadata": {
        "id": "view-in-github",
        "colab_type": "text"
      },
      "source": [
        "<a href=\"https://colab.research.google.com/github/111DataScienceWizard/TREBIRTH/blob/main/Collab%20Notes/Scake.ipynb\" target=\"_parent\"><img src=\"https://colab.research.google.com/assets/colab-badge.svg\" alt=\"Open In Colab\"/></a>"
      ]
    },
    {
      "cell_type": "code",
      "source": [
        "import pandas as pd\n",
        "import numpy as np\n",
        "from scipy import signal\n",
        "import sklearn\n",
        "from sklearn.model_selection import train_test_split\n",
        "from sklearn.ensemble import RandomForestClassifier\n",
        "from sklearn.metrics import accuracy_score, classification_report"
      ],
      "metadata": {
        "id": "ff8d8oY2GzhD"
      },
      "execution_count": null,
      "outputs": []
    },
    {
      "cell_type": "code",
      "execution_count": null,
      "metadata": {
        "id": "S571lpIqGxjg"
      },
      "outputs": [],
      "source": [
        "def stats_radar(df):\n",
        "    result_df = pd.DataFrame()\n",
        "\n",
        "    for column in df.columns:\n",
        "        std_list, ptp_list, mean_list, rms_list = [], [], [], []\n",
        "\n",
        "        dfx= df[column]\n",
        "        dfx = pd.DataFrame(dfx)\n",
        "        dfx = dfx.dropna()\n",
        "        std_value = np.std(df[column])\n",
        "        ptp_value = np.ptp(df[column])\n",
        "        mean_value = np.mean(df[column])\n",
        "        rms_value = np.sqrt(np.mean(df[column]**2))\n",
        "\n",
        "        std_list.append(std_value)\n",
        "        ptp_list.append(ptp_value)\n",
        "        mean_list.append(mean_value)\n",
        "        rms_list.append(rms_value)\n",
        "\n",
        "\n",
        "        column_result_df = pd.DataFrame({\n",
        "        \"STD\": std_list,\n",
        "        \"PTP\": ptp_list,\n",
        "        \"Mean\": mean_list,\n",
        "        \"RMS\": rms_list\n",
        "        })\n",
        "        result_df = pd.concat([result_df, column_result_df],axis=0)\n",
        "    return result_df\n",
        "\n",
        "def stats_adxl(df):\n",
        "    result_df = pd.DataFrame()\n",
        "\n",
        "    for column in df.columns:\n",
        "        std_list, ptp_list, mean_list, rms_list = [], [], [], []\n",
        "\n",
        "        dfx= df[column]\n",
        "        dfx = pd.DataFrame(dfx)\n",
        "        dfx = dfx.dropna()\n",
        "        std_value = np.std(df[column])\n",
        "        ptp_value = np.ptp(df[column])\n",
        "        mean_value = np.mean(df[column])\n",
        "        rms_value = np.sqrt(np.mean(df[column]**2))\n",
        "\n",
        "        std_list.append(std_value)\n",
        "        ptp_list.append(ptp_value)\n",
        "        mean_list.append(mean_value)\n",
        "        rms_list.append(rms_value)\n",
        "\n",
        "\n",
        "        column_result_df = pd.DataFrame({\n",
        "        \"adxl_STD\": std_list,\n",
        "        \"adxl_PTP\": ptp_list,\n",
        "        \"adxl_Mean\": mean_list,\n",
        "        \"adxl_RMS\": rms_list\n",
        "        })\n",
        "        result_df = pd.concat([result_df, column_result_df],axis=0)\n",
        "    return result_df\n",
        "\n",
        "\n",
        "def stats_ax(df):\n",
        "    result_df = pd.DataFrame()\n",
        "\n",
        "    for column in df.columns:\n",
        "        std_list, ptp_list, mean_list, rms_list = [], [], [], []\n",
        "\n",
        "        dfx= df[column]\n",
        "        dfx = pd.DataFrame(dfx)\n",
        "        dfx = dfx.dropna()\n",
        "        std_value = np.std(df[column])\n",
        "        ptp_value = np.ptp(df[column])\n",
        "        mean_value = np.mean(df[column])\n",
        "        rms_value = np.sqrt(np.mean(df[column]**2))\n",
        "\n",
        "        std_list.append(std_value)\n",
        "        ptp_list.append(ptp_value)\n",
        "        mean_list.append(mean_value)\n",
        "        rms_list.append(rms_value)\n",
        "\n",
        "\n",
        "        column_result_df = pd.DataFrame({\n",
        "        \"ax_STD\": std_list,\n",
        "        \"ax_PTP\": ptp_list,\n",
        "        \"ax_Mean\": mean_list,\n",
        "        \"ax_RMS\": rms_list\n",
        "        })\n",
        "        result_df = pd.concat([result_df, column_result_df],axis=0)\n",
        "    return result_df\n",
        "\n",
        "def stats_ay(df):\n",
        "    result_df = pd.DataFrame()\n",
        "\n",
        "    for column in df.columns:\n",
        "        std_list, ptp_list, mean_list, rms_list = [], [], [], []\n",
        "\n",
        "        dfx= df[column]\n",
        "        dfx = pd.DataFrame(dfx)\n",
        "        dfx = dfx.dropna()\n",
        "        std_value = np.std(df[column])\n",
        "        ptp_value = np.ptp(df[column])\n",
        "        mean_value = np.mean(df[column])\n",
        "        rms_value = np.sqrt(np.mean(df[column]**2))\n",
        "\n",
        "        std_list.append(std_value)\n",
        "        ptp_list.append(ptp_value)\n",
        "        mean_list.append(mean_value)\n",
        "        rms_list.append(rms_value)\n",
        "\n",
        "\n",
        "        column_result_df = pd.DataFrame({\n",
        "        \"ay_STD\": std_list,\n",
        "        \"ay_PTP\": ptp_list,\n",
        "        \"ay_Mean\": mean_list,\n",
        "        \"ay_RMS\": rms_list\n",
        "        })\n",
        "        result_df = pd.concat([result_df, column_result_df],axis=0)\n",
        "    return result_df\n",
        "\n",
        "def stats_az(df):\n",
        "    result_df = pd.DataFrame()\n",
        "\n",
        "    for column in df.columns:\n",
        "        std_list, ptp_list, mean_list, rms_list = [], [], [], []\n",
        "\n",
        "        dfx= df[column]\n",
        "        dfx = pd.DataFrame(dfx)\n",
        "        dfx = dfx.dropna()\n",
        "        std_value = np.std(df[column])\n",
        "        ptp_value = np.ptp(df[column])\n",
        "        mean_value = np.mean(df[column])\n",
        "        rms_value = np.sqrt(np.mean(df[column]**2))\n",
        "\n",
        "        std_list.append(std_value)\n",
        "        ptp_list.append(ptp_value)\n",
        "        mean_list.append(mean_value)\n",
        "        rms_list.append(rms_value)\n",
        "\n",
        "\n",
        "        column_result_df = pd.DataFrame({\n",
        "        \"az_STD\": std_list,\n",
        "        \"az_PTP\": ptp_list,\n",
        "        \"az_Mean\": mean_list,\n",
        "        \"az_RMS\": rms_list\n",
        "        })\n",
        "        result_df = pd.concat([result_df, column_result_df],axis=0)\n",
        "    return result_df"
      ]
    },
    {
      "cell_type": "code",
      "source": [
        "def detrend(dataframe):\n",
        "    detrended_data = dataframe-dataframe.mean()\n",
        "    #normalized_data = (detrended_data - detrended_data.min()) / (detrended_data.max() - detrended_data.min())\n",
        "    return (detrended_data)"
      ],
      "metadata": {
        "id": "Npjjo7-FKbXG"
      },
      "execution_count": null,
      "outputs": []
    },
    {
      "cell_type": "code",
      "source": [
        "def train(df):\n",
        "  features = df.drop('label', axis=1)\n",
        "  labels = df['label']\n",
        "  X_train, X_test, y_train, y_test = train_test_split(features, labels, test_size=0.2, random_state=42)\n",
        "  clf = RandomForestClassifier(n_estimators=150, random_state=42)\n",
        "  clf.fit(X_train, y_train)\n",
        "  predictions = clf.predict(X_test)\n",
        "  accuracy = accuracy_score(y_test, predictions)\n",
        "  cr = classification_report(y_test, predictions)\n",
        "  print(\"accuracy\",accuracy,\"\\n\")\n",
        "  print(\"clf\",clf,\"\\n\")\n",
        "  print(\"cr\",cr,\"\\n\")\n",
        "  return(clf)\n"
      ],
      "metadata": {
        "id": "RQjd05RCJbml"
      },
      "execution_count": null,
      "outputs": []
    },
    {
      "cell_type": "code",
      "source": [
        "def preprocess(radar,adxl,ax,ay,az):\n",
        "  radar_stats =stats_radar(radar)\n",
        "  adxl_stats =stats_adxl(adxl)\n",
        "  ax_stats =stats_ax(ax)\n",
        "  ay_stats =stats_ay(ay)\n",
        "  az_stats =stats_az(az)\n",
        "  radar_detrend = detrend(radar)\n",
        "  adxl_detrend = detrend(adxl)\n",
        "  ax_detrend = detrend(ax)\n",
        "  ay_detrend = detrend(ay)\n",
        "  az_detrend = detrend(az)\n",
        "  radar_detrend_stats = stats_radar(radar_detrend)\n",
        "  adxl_detrend_stats = stats_adxl(adxl_detrend)\n",
        "  ax_detrend_stats = stats_ax(ax_detrend)\n",
        "  ay_detrend_stats = stats_ay(ay_detrend)\n",
        "  az_detrend_stats = stats_az(az_detrend)\n",
        "\n",
        "  return(radar_stats,adxl_stats,ax_stats,ay_stats,az_stats,radar_detrend,adxl_detrend,ax_detrend,ay_detrend,az_detrend,radar_detrend_stats,adxl_detrend_stats,ax_detrend_stats,ay_detrend_stats,az_detrend_stats)"
      ],
      "metadata": {
        "id": "kPABD3RI9zXi"
      },
      "execution_count": null,
      "outputs": []
    },
    {
      "cell_type": "code",
      "source": [
        "Infected_Radar = pd.read_csv(\"/content/Infected_Radar.csv\",header =None).iloc[100:1900]\n",
        "Infected_ADXL = pd.read_csv(\"/content/Infected_ADXL.csv\",header =None).iloc[100:1900]\n",
        "Infected_Ax = pd.read_csv(\"/content/Infected_Ax.csv\",header =None).iloc[100:1900]\n",
        "Infected_Ay = pd.read_csv(\"/content/Infected_Ay.csv\",header =None).iloc[100:1900]\n",
        "Infected_Az = pd.read_csv(\"/content/Infected_Az.csv\",header =None).iloc[100:1900]\n",
        "Healthy_Radar = pd.read_csv(\"/content/Healthy_Radar.csv\",header =None).iloc[100:1900]\n",
        "Healthy_ADXL = pd.read_csv(\"/content/Healthy_ADXL.csv\",header =None).iloc[100:1900]\n",
        "Healthy_Ax = pd.read_csv(\"/content/Healthy_Ax.csv\",header =None).iloc[100:1900]\n",
        "Healthy_Ay = pd.read_csv(\"/content/Healthy_Ay.csv\",header =None).iloc[100:1900]\n",
        "Healthy_Az = pd.read_csv(\"/content/Healthy_Az.csv\",header =None).iloc[100:1900]\n",
        "Healthy2Radar = pd.read_csv(\"/content/Healthy2Radar.csv\",header =None).iloc[100:1900]\n",
        "Healthy2ADXL = pd.read_csv(\"/content/Healthy2ADXL.csv\",header =None).iloc[100:1900]\n",
        "Healthy2Ax = pd.read_csv(\"/content/Healthy2Ax.csv\",header =None).iloc[100:1900]\n",
        "Healthy2Ay = pd.read_csv(\"/content/Healthy2Ay.csv\",header =None).iloc[100:1900]\n",
        "Healthy2Az = pd.read_csv(\"/content/Healthy2Az.csv\",header =None).iloc[100:1900]"
      ],
      "metadata": {
        "id": "9MnKr8wKNK8B"
      },
      "execution_count": null,
      "outputs": []
    },
    {
      "cell_type": "code",
      "source": [
        "mixInfectedRadar = pd.read_csv(\"/content/mixInfectedRadar.csv\",header =None)\n",
        "mixInfectedADXL = pd.read_csv(\"/content/mixInfectedADXL.csv\",header =None)\n",
        "mixInfectedAx = pd.read_csv(\"/content/mixInfectedAx.csv\",header =None)\n",
        "mixInfectedAy = pd.read_csv(\"/content/mixInfectedAy.csv\",header =None)\n",
        "mixInfectedAz = pd.read_csv(\"/content/mixInfectedAz.csv\",header =None)"
      ],
      "metadata": {
        "id": "tyF65MtmRWqu"
      },
      "execution_count": null,
      "outputs": []
    },
    {
      "cell_type": "code",
      "source": [
        "mixHealthyRadar = pd.read_csv(\"/content/mixHealthyRadar.csv\",header =None)\n",
        "mixHealthyADXL = pd.read_csv(\"/content/mixHealthyADXL.csv\",header =None)\n",
        "mixHealthyAx = pd.read_csv(\"/content/mixHealthyAx.csv\",header =None)\n",
        "mixHealthyAy = pd.read_csv(\"/content/mixHealthyAy.csv\",header =None)\n",
        "mixHealthyAz = pd.read_csv(\"/content/mixHealthyAz.csv\",header =None)"
      ],
      "metadata": {
        "id": "Gq0cvMMHReoQ"
      },
      "execution_count": null,
      "outputs": []
    },
    {
      "cell_type": "code",
      "source": [
        "InfShakeRadar = pd.read_csv(\"/content/InfShakeRadar.csv\",header =None)\n",
        "InfShakeADXL = pd.read_csv(\"/content/InfShakeADXL.csv\",header =None)\n",
        "InfShakeAx = pd.read_csv(\"/content/InfShakeAx.csv\",header =None)\n",
        "InfShakeAy = pd.read_csv(\"/content/InfShakeAy.csv\",header =None)\n",
        "InfShakeAz = pd.read_csv(\"/content/InfShakeAz.csv\",header =None)"
      ],
      "metadata": {
        "id": "8yvKY8Ahs1ma"
      },
      "execution_count": null,
      "outputs": []
    },
    {
      "cell_type": "code",
      "source": [
        "Infected_radar_stats,Infected_adxl_stats,Infected_ax_stats,Infected_ay_stats,Infected_az_stats,Infected_radar_detrend,Infected_adxl_detrend,Infected_ax_detrend,Infected_ay_detrend,Infected_az_detrend,Infected_radar_detrend_stats,Infected_adxl_detrend_stats,Infected_ax_detrend_stats,Infected_ay_detrend_stats,Infected_az_detrend_stats= preprocess(Infected_Radar,Infected_ADXL,Infected_Ax,Infected_Ay,Infected_Az)"
      ],
      "metadata": {
        "id": "I5hPuP-9mlIE"
      },
      "execution_count": null,
      "outputs": []
    },
    {
      "cell_type": "code",
      "source": [
        "Healthy_radar_stats,Healthy_adxl_stats,Healthy_ax_stats,Healthy_ay_stats,Healthy_az_stats,Healthy_radar_detrend,Healthy_adxl_detrend,Healthy_ax_detrend,Healthy_ay_detrend,Healthy_az_detrend,Healthy_radar_detrend_stats,Healthy_adxl_detrend_stats,Healthy_ax_detrend_stats,Healthy_ay_detrend_stats,Healthy_az_detrend_stats= preprocess(Healthy_Radar,Healthy_ADXL,Healthy_Ax,Healthy_Ay,Healthy_Az)"
      ],
      "metadata": {
        "id": "Q-_adra8ncyO"
      },
      "execution_count": null,
      "outputs": []
    },
    {
      "cell_type": "code",
      "source": [
        "Healthy2radar_stats,Healthy2adxl_stats,Healthy2ax_stats,Healthy2ay_stats,Healthy2az_stats,Healthy2radar_detrend,Healthy2adxl_detrend,Healthy2ax_detrend,Healthy2ay_detrend,Healthy2az_detrend,Healthy2radar_detrend_stats,Healthy2adxl_detrend_stats,Healthy2ax_detrend_stats,Healthy2ay_detrend_stats,Healthy2az_detrend_stats= preprocess(Healthy2Radar,Healthy2ADXL,Healthy2Ax,Healthy2Ay,Healthy2Az)"
      ],
      "metadata": {
        "id": "OUPK1EnPL_AT"
      },
      "execution_count": null,
      "outputs": []
    },
    {
      "cell_type": "code",
      "source": [
        "mixInfectedradar_stats,mixInfectedadxl_stats,mixInfectedax_stats,mixInfecteday_stats,mixInfectedaz_stats,mixInfectedradar_detrend,mixInfectedadxl_detrend,mixInfectedax_detrend,mixInfecteday_detrend,mixInfectedaz_detrend,mixInfectedradar_detrend_stats,mixInfectedadxl_detrend_stats,mixInfectedax_detrend_stats,mixInfecteday_detrend_stats,mixInfectedaz_detrend_stats= preprocess(mixInfectedRadar,mixInfectedADXL,mixInfectedAx,mixInfectedAy,mixInfectedAz)"
      ],
      "metadata": {
        "id": "SWKHVLitRuaI"
      },
      "execution_count": null,
      "outputs": []
    },
    {
      "cell_type": "code",
      "source": [
        "mixHealthyradar_stats,mixHealthyadxl_stats,mixHealthyax_stats,mixHealthyay_stats,mixHealthyaz_stats,mixHealthyradar_detrend,mixHealthyadxl_detrend,mixHealthyax_detrend,mixHealthyay_detrend,mixHealthyaz_detrend,mixHealthyradar_detrend_stats,mixHealthyadxl_detrend_stats,mixHealthyax_detrend_stats,mixHealthyay_detrend_stats,mixHealthyaz_detrend_stats= preprocess(mixHealthyRadar,mixHealthyADXL,mixHealthyAx,mixHealthyAy,mixHealthyAz)"
      ],
      "metadata": {
        "id": "zt9CAMnUR0d4"
      },
      "execution_count": null,
      "outputs": []
    },
    {
      "cell_type": "code",
      "source": [
        "InfShakeradar_stats,InfShakeadxl_stats,InfShakeax_stats,InfShakeay_stats,InfShakeaz_stats,InfShakeradar_detrend,InfShakeadxl_detrend,InfShakeax_detrend,InfShakeay_detrend,InfShakeaz_detrend,InfShakeradar_detrend_stats,InfShakeadxl_detrend_stats,InfShakeax_detrend_stats,InfShakeay_detrend_stats,InfShakeaz_detrend_stats= preprocess(InfShakeRadar,InfShakeADXL,InfShakeAx,InfShakeAy,InfShakeAz)"
      ],
      "metadata": {
        "id": "blOWGEARtBIv"
      },
      "execution_count": null,
      "outputs": []
    },
    {
      "cell_type": "code",
      "source": [
        "Infected_stats = pd.concat([Infected_radar_stats,Infected_adxl_stats,Infected_ax_stats,Infected_ay_stats,Infected_az_stats],axis=1)\n",
        "Infected_detrend_stats = pd.concat([Infected_radar_detrend_stats,Infected_adxl_detrend_stats,Infected_ax_detrend_stats,Infected_ay_detrend_stats,Infected_az_detrend_stats],axis=1)\n",
        "Healthy_stats = pd.concat([Healthy_radar_stats,Healthy_adxl_stats,Healthy_ax_stats,Healthy_ay_stats,Healthy_az_stats],axis=1)\n",
        "Healthy_detrend_stats = pd.concat([Healthy_radar_detrend_stats,Healthy_adxl_detrend_stats,Healthy_ax_detrend_stats,Healthy_ay_detrend_stats,Healthy_az_detrend_stats],axis=1)"
      ],
      "metadata": {
        "id": "EIXBRNgMVt0H"
      },
      "execution_count": null,
      "outputs": []
    },
    {
      "cell_type": "code",
      "source": [
        "Healthy2stats = pd.concat([Healthy2radar_stats,Healthy2adxl_stats,Healthy2ax_stats,Healthy2ay_stats,Healthy2az_stats],axis=1)\n",
        "Healthy2detrend_stats = pd.concat([Healthy2radar_detrend_stats,Healthy2adxl_detrend_stats,Healthy2ax_detrend_stats,Healthy2ay_detrend_stats,Healthy2az_detrend_stats],axis=1)"
      ],
      "metadata": {
        "id": "BTAXMTY-MEk-"
      },
      "execution_count": null,
      "outputs": []
    },
    {
      "cell_type": "code",
      "source": [
        "mixHealthystats = pd.concat([mixHealthyradar_stats,mixHealthyadxl_stats,mixHealthyax_stats,mixHealthyay_stats,mixHealthyaz_stats],axis=1)\n",
        "mixHealthydetrend_stats = pd.concat([mixHealthyradar_detrend_stats,mixHealthyadxl_detrend_stats,mixHealthyax_detrend_stats,mixHealthyay_detrend_stats,mixHealthyaz_detrend_stats],axis=1)"
      ],
      "metadata": {
        "id": "TYX5KbndR66L"
      },
      "execution_count": null,
      "outputs": []
    },
    {
      "cell_type": "code",
      "source": [
        "mixInfectedstats = pd.concat([mixInfectedradar_stats,mixInfectedadxl_stats,mixInfectedax_stats,mixInfecteday_stats,mixInfectedaz_stats],axis=1)\n",
        "mixInfecteddetrend_stats = pd.concat([mixInfectedradar_detrend_stats,mixInfectedadxl_detrend_stats,mixInfectedax_detrend_stats,mixInfecteday_detrend_stats,mixInfectedaz_detrend_stats],axis=1)"
      ],
      "metadata": {
        "id": "22koafirR_v2"
      },
      "execution_count": null,
      "outputs": []
    },
    {
      "cell_type": "code",
      "source": [
        "InfShakestats = pd.concat([InfShakeradar_stats,InfShakeadxl_stats,InfShakeax_stats,InfShakeay_stats,InfShakeaz_stats],axis=1)\n",
        "InfShakedetrend_stats = pd.concat([InfShakeradar_detrend_stats,InfShakeadxl_detrend_stats,InfShakeax_detrend_stats,InfShakeay_detrend_stats,InfShakeaz_detrend_stats],axis=1)"
      ],
      "metadata": {
        "id": "WlMCQXemtJeZ"
      },
      "execution_count": null,
      "outputs": []
    },
    {
      "cell_type": "code",
      "source": [
        "Infected_stats['label']='Infected'\n",
        "Infected_detrend_stats['label']='Infected'\n",
        "Healthy_stats['label']='Healthy'\n",
        "Healthy_detrend_stats['label']='Healthy'\n",
        "Healthy2stats['label']='Healthy'\n",
        "Healthy2detrend_stats['label']='Healthy'\n",
        "mixHealthystats['label']='Healthy'\n",
        "mixInfectedstats['label']='Infected'\n",
        "mixHealthydetrend_stats['label']='Healthy'\n",
        "mixInfecteddetrend_stats['label']='Infected'\n",
        "InfShakestats['label']='Infected'\n",
        "InfShakedetrend_stats['label']='Infected'"
      ],
      "metadata": {
        "id": "nyb3E5FLYFZA"
      },
      "execution_count": null,
      "outputs": []
    },
    {
      "cell_type": "code",
      "source": [
        "df = pd.concat([Infected_stats,Healthy_stats,Healthy2stats,mixHealthystats, mixInfectedstats,InfShakestats],axis=0)\n",
        "detrend_df = pd.concat([Infected_detrend_stats,Healthy_detrend_stats,Healthy2detrend_stats,mixHealthydetrend_stats, mixInfecteddetrend_stats,InfShakedetrend_stats],axis=0)\n",
        "\n",
        "df = df.sample(frac=1, random_state=42)\n",
        "detrend_df = detrend_df.sample(frac=1, random_state=42)"
      ],
      "metadata": {
        "id": "QfqW7Xsjo7yO"
      },
      "execution_count": null,
      "outputs": []
    },
    {
      "cell_type": "code",
      "source": [
        "test_df = df.head(10)\n",
        "test_detrend_df = detrend_df.head(10)\n",
        "train_df = df[10:]\n",
        "train_detrend_df = detrend_df[10:]"
      ],
      "metadata": {
        "id": "1hHCr6mVxEwu"
      },
      "execution_count": null,
      "outputs": []
    },
    {
      "cell_type": "code",
      "source": [
        "train_df_clf = train(train_df)\n",
        "train_detrend_df_clf = train(train_detrend_df)"
      ],
      "metadata": {
        "colab": {
          "base_uri": "https://localhost:8080/"
        },
        "id": "nJmymxqjpYM3",
        "outputId": "351b6a73-3586-49d1-a312-0d466ffd7b31"
      },
      "execution_count": null,
      "outputs": [
        {
          "output_type": "stream",
          "name": "stdout",
          "text": [
            "accuracy 0.9545454545454546 \n",
            "\n",
            "clf RandomForestClassifier(n_estimators=150, random_state=42) \n",
            "\n",
            "cr               precision    recall  f1-score   support\n",
            "\n",
            "     Healthy       0.94      1.00      0.97        15\n",
            "    Infected       1.00      0.86      0.92         7\n",
            "\n",
            "    accuracy                           0.95        22\n",
            "   macro avg       0.97      0.93      0.95        22\n",
            "weighted avg       0.96      0.95      0.95        22\n",
            " \n",
            "\n",
            "accuracy 0.7727272727272727 \n",
            "\n",
            "clf RandomForestClassifier(n_estimators=150, random_state=42) \n",
            "\n",
            "cr               precision    recall  f1-score   support\n",
            "\n",
            "     Healthy       0.86      0.80      0.83        15\n",
            "    Infected       0.62      0.71      0.67         7\n",
            "\n",
            "    accuracy                           0.77        22\n",
            "   macro avg       0.74      0.76      0.75        22\n",
            "weighted avg       0.78      0.77      0.78        22\n",
            " \n",
            "\n"
          ]
        }
      ]
    },
    {
      "cell_type": "code",
      "source": [
        "test_df_label = test_df['label']\n",
        "test_df = test_df.drop('label',axis=1)\n",
        "clf_model1_pred = train_df_clf.predict(test_df)\n",
        "accuracy1= accuracy_score(test_df_label,clf_model1_pred)\n",
        "\n",
        "print(accuracy1)"
      ],
      "metadata": {
        "colab": {
          "base_uri": "https://localhost:8080/"
        },
        "id": "IcKN_UVc9Nff",
        "outputId": "ad57d8e1-133d-4614-8852-3950ad869b5d"
      },
      "execution_count": null,
      "outputs": [
        {
          "output_type": "stream",
          "name": "stdout",
          "text": [
            "0.8\n"
          ]
        }
      ]
    },
    {
      "cell_type": "code",
      "source": [
        "test_detrend_df_label = test_detrend_df['label']\n",
        "test_detrend_df = test_detrend_df.drop('label',axis=1)\n",
        "clf_model2_pred = train_detrend_df_clf.predict(test_detrend_df)\n",
        "accuracy2= accuracy_score(test_detrend_df_label,clf_model2_pred)\n",
        "\n",
        "print(accuracy2)"
      ],
      "metadata": {
        "colab": {
          "base_uri": "https://localhost:8080/"
        },
        "id": "FpMnOombxs4J",
        "outputId": "9d634db8-f679-418c-e0b6-33e352d5a365"
      },
      "execution_count": null,
      "outputs": [
        {
          "output_type": "stream",
          "name": "stdout",
          "text": [
            "0.9\n"
          ]
        }
      ]
    },
    {
      "cell_type": "code",
      "source": [
        "detrend_df.shape"
      ],
      "metadata": {
        "colab": {
          "base_uri": "https://localhost:8080/"
        },
        "id": "9BEN8YPiotK5",
        "outputId": "277d75f2-c569-4fe6-d336-b947d09d7cf9"
      },
      "execution_count": null,
      "outputs": [
        {
          "output_type": "execute_result",
          "data": {
            "text/plain": [
              "(119, 21)"
            ]
          },
          "metadata": {},
          "execution_count": 35
        }
      ]
    },
    {
      "cell_type": "code",
      "source": [
        "adxl_PTP = detrend_df['adxl_PTP']\n",
        "adxl_PTP = sorted(adxl_PTP)\n",
        "for value in adxl_PTP:\n",
        "    print(value)"
      ],
      "metadata": {
        "id": "LnWRnV70D_ME",
        "colab": {
          "base_uri": "https://localhost:8080/"
        },
        "outputId": "3714240c-1a9a-4661-bb46-044247fc47d7"
      },
      "execution_count": null,
      "outputs": [
        {
          "output_type": "stream",
          "name": "stdout",
          "text": [
            "1.5777130126959946\n",
            "2.0038452000000007\n",
            "2.0192260999999974\n",
            "2.026657099999994\n",
            "2.0302275999999893\n",
            "2.0304717999999866\n",
            "2.0304717999999866\n",
            "2.030532800000003\n",
            "2.0306396000000007\n",
            "2.051238999999981\n",
            "2.0571135999999797\n",
            "2.0587463378899997\n",
            "2.065368652344006\n",
            "2.0758973000000083\n",
            "2.0765837999999803\n",
            "2.0872956000000045\n",
            "2.090270996094006\n",
            "2.0906525000000045\n",
            "2.0910796999999945\n",
            "2.096054077148011\n",
            "2.1024474999999825\n",
            "2.1060181\n",
            "2.1071319580080115\n",
            "2.108642599999996\n",
            "2.130386399999992\n",
            "2.138320922851989\n",
            "2.1419677734380116\n",
            "2.148300199999994\n",
            "2.151565599999998\n",
            "2.1596983999999964\n",
            "2.1637726000000015\n",
            "2.1641083000000094\n",
            "2.165206899999987\n",
            "2.175354000000013\n",
            "2.209579467773011\n",
            "2.2118988\n",
            "2.2486113999999873\n",
            "2.250106811524006\n",
            "2.273666399999996\n",
            "2.277572599999999\n",
            "2.285202026367017\n",
            "2.2885589599609943\n",
            "2.2967834472659945\n",
            "2.3785399999999868\n",
            "2.4168701171880116\n",
            "2.4361877441409945\n",
            "2.5137023925780113\n",
            "2.5278244018560088\n",
            "2.54655456543\n",
            "2.552490234375\n",
            "2.5583647999999926\n",
            "2.6963500976560226\n",
            "2.893005371093011\n",
            "2.9538726806640057\n",
            "2.9801024999999868\n",
            "2.9942932000000155\n",
            "2.995544433594006\n",
            "3.0074462890630116\n",
            "3.007629400000013\n",
            "3.0112761999999975\n",
            "3.0113524999999868\n",
            "3.0297087999999803\n",
            "3.038162231445\n",
            "3.0457000732419885\n",
            "3.048782299999999\n",
            "3.0514068999999893\n",
            "3.0517883300780113\n",
            "3.057586669922003\n",
            "3.059074401855\n",
            "3.0592041015630116\n",
            "3.060684204101989\n",
            "3.069396972655994\n",
            "3.07865910000001\n",
            "3.0807342529290054\n",
            "3.0808868408199857\n",
            "3.0850829999999974\n",
            "3.087799000000018\n",
            "3.094543457030994\n",
            "3.09765625\n",
            "3.1065216064459946\n",
            "3.1148376464840055\n",
            "3.127456699999982\n",
            "3.135360717773011\n",
            "3.1428680419929833\n",
            "3.1561279296869884\n",
            "3.1968078613280113\n",
            "3.1978759765630116\n",
            "3.198814392089986\n",
            "3.2081527709959943\n",
            "3.2723083496090055\n",
            "3.281066894531989\n",
            "3.282852172851989\n",
            "3.300567626952983\n",
            "3.325866699218011\n",
            "3.3327331542960223\n",
            "3.4224700927739775\n",
            "3.422531127928977\n",
            "3.427429199219006\n",
            "3.451843261719006\n",
            "3.457565307617017\n",
            "3.469299316405994\n",
            "3.4709777832030113\n",
            "3.5427093505859943\n",
            "3.981605529785\n",
            "4.0779724121090055\n",
            "4.107543945311988\n",
            "4.170928955077983\n",
            "4.184654235839986\n",
            "4.201538085938012\n",
            "4.21630859375\n",
            "4.241470300000003\n",
            "4.318534851074006\n",
            "4.413398742675994\n",
            "5.039047300000021\n",
            "5.088409423828011\n",
            "5.285171508789006\n",
            "12.418579101562997\n",
            "15.112083499999997\n",
            "127.69468688964798\n"
          ]
        }
      ]
    },
    {
      "cell_type": "code",
      "source": [
        "array= [4.0779724121090055,4.107543945311988,4.170928955077983,4.184654235839986,4.201538085938012,4.21630859375,4.241470300000003,4.318534851074006,4.413398742675994,5.039047300000021,5.088409423828011,5.285171508789006,12.418579101562997,15.112083499999997,127.69468688964798]"
      ],
      "metadata": {
        "id": "lnzbZxEFVedr"
      },
      "execution_count": null,
      "outputs": []
    },
    {
      "cell_type": "code",
      "source": [
        "len(array)"
      ],
      "metadata": {
        "colab": {
          "base_uri": "https://localhost:8080/"
        },
        "id": "EEdR9NjOKsWg",
        "outputId": "fd86d358-6f2e-4794-baaf-ef37aedef34f"
      },
      "execution_count": null,
      "outputs": [
        {
          "output_type": "execute_result",
          "data": {
            "text/plain": [
              "15"
            ]
          },
          "metadata": {},
          "execution_count": 2
        }
      ]
    },
    {
      "cell_type": "code",
      "source": [
        "arr=[1.5777130126959946,2.0038452000000007,2.0192260999999974,2.026657099999994,2.0302275999999893,2.0304717999999866,2.0304717999999866,2.030532800000003,2.0306396000000007,2.051238999999981,2.0571135999999797,2.0587463378899997,2.065368652344006,2.0758973000000083,2.0765837999999803,2.0872956000000045,2.090270996094006,2.0906525000000045,2.0910796999999945,2.096054077148011,2.1024474999999825,2.1060181,2.1071319580080115,2.108642599999996,2.130386399999992,2.138320922851989,2.1419677734380116,2.148300199999994,2.151565599999998,2.1596983999999964,2.1637726000000015,2.1641083000000094,2.165206899999987,2.175354000000013,2.209579467773011,2.2118988,2.2486113999999873,2.250106811524006,2.273666399999996,2.277572599999999,2.285202026367017,2.2885589599609943,2.2967834472659945,2.3785399999999868,2.4168701171880116,2.4361877441409945,2.5137023925780113,2.5278244018560088,2.54655456543,2.552490234375,2.5583647999999926,2.6963500976560226,2.893005371093011,2.9538726806640057,2.9801024999999868,2.9942932000000155,2.995544433594006,3.0074462890630116,3.007629400000013,3.0112761999999975,3.0113524999999868,3.0297087999999803,3.038162231445,3.0457000732419885,3.048782299999999,3.0514068999999893,3.0517883300780113,3.057586669922003,3.059074401855,3.0592041015630116,3.060684204101989,3.069396972655994,3.07865910000001,3.0807342529290054,3.0808868408199857,3.0850829999999974,3.087799000000018,3.094543457030994,3.09765625,3.1065216064459946,3.1148376464840055,3.127456699999982,3.135360717773011,3.1428680419929833,3.1561279296869884,3.1968078613280113,3.1978759765630116,3.198814392089986,3.2081527709959943,3.2723083496090055,3.281066894531989,3.282852172851989,3.300567626952983,3.325866699218011,3.3327331542960223,3.4224700927739775,3.422531127928977,3.427429199219006,3.451843261719006,3.457565307617017,3.469299316405994,3.4709777832030113,3.5427093505859943,3.981605529785,4.0779724121090055,4.107543945311988,4.170928955077983,4.184654235839986,4.201538085938012,4.21630859375,4.241470300000003,4.318534851074006,4.413398742675994,5.039047300000021,5.088409423828011,5.285171508789006,12.418579101562997,15.112083499999997,127.69468688964798]"
      ],
      "metadata": {
        "id": "HMUWrRAqKt_2"
      },
      "execution_count": null,
      "outputs": []
    },
    {
      "cell_type": "code",
      "source": [
        "len(arr)"
      ],
      "metadata": {
        "id": "8GJ7l2SdK7Ou",
        "outputId": "0b92da46-30df-4e77-ebbd-e3be3c6ac91b",
        "colab": {
          "base_uri": "https://localhost:8080/"
        }
      },
      "execution_count": null,
      "outputs": [
        {
          "output_type": "execute_result",
          "data": {
            "text/plain": [
              "119"
            ]
          },
          "metadata": {},
          "execution_count": 4
        }
      ]
    },
    {
      "cell_type": "code",
      "source": [],
      "metadata": {
        "id": "FEbDmbpMK8K_"
      },
      "execution_count": null,
      "outputs": []
    }
  ]
}